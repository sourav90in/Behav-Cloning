{
 "cells": [
  {
   "cell_type": "code",
   "execution_count": 2,
   "metadata": {},
   "outputs": [
    {
     "name": "stderr",
     "output_type": "stream",
     "text": [
      "Using TensorFlow backend.\n"
     ]
    }
   ],
   "source": [
    "import os\n",
    "import csv\n",
    "import cv2\n",
    "import numpy as np\n",
    "import sklearn\n",
    "import keras\n",
    "from keras.models import Sequential\n",
    "from keras.layers.core import Dense,Activation,Flatten,Dropout,Lambda\n",
    "from keras.layers.convolutional import Cropping2D,Convolution2D\n",
    "from sklearn.model_selection import train_test_split"
   ]
  },
  {
   "cell_type": "code",
   "execution_count": 11,
   "metadata": {
    "collapsed": true
   },
   "outputs": [],
   "source": [
    "#Data Augmentation or manipulation functions in this cell\n",
    "\n",
    "def imgRead(img_path):\n",
    "    #Read image is in BGR format\n",
    "    img = cv2.imread(img_path)\n",
    "    #Convert to RGB\n",
    "    return cv2.cvtColor(img, cv2.COLOR_BGR2RGB)\n",
    "    \n",
    "def Imflip(img):\n",
    "    return cv2.flip(img,1)\n",
    "\n",
    "#Not used, incorporate cropping in the Model arch so that its common to train,valid and test sets\n",
    "def ImCrop(img):\n",
    "    #Actual image dim is 160x320 and removing 50 from top and 20 from bottom\n",
    "    return img[50:140,:,:]  "
   ]
  },
  {
   "cell_type": "code",
   "execution_count": 9,
   "metadata": {
    "collapsed": true
   },
   "outputs": [],
   "source": [
    "def t_generator(samples, batch_size=32):\n",
    "    num_samples = len(samples)\n",
    "    src_path = 'data_src2/data/IMG/'\n",
    "    #Delta defined for steering angles from left and right cameras \n",
    "    st_delta = 0.25\n",
    "    while 1: # Loop forever so the generator never terminates\n",
    "        sklearn.utils.shuffle(samples)\n",
    "        for offset in range(0, num_samples, batch_size):\n",
    "            batch_samples = samples[offset:offset+batch_size]\n",
    "\n",
    "            images = []\n",
    "            angles = []\n",
    "            for batch_sample in batch_samples:\n",
    "                c_im_name = src_path + batch_sample[0].split('/')[-1]\n",
    "                l_im_name = src_path + batch_sample[1].split('/')[-1]\n",
    "                r_im_name = src_path + batch_sample[2].split('/')[-1]\n",
    "                \n",
    "                #Read the images\n",
    "                c_image = imgRead(c_im_name)\n",
    "                l_image = imgRead(l_im_name)\n",
    "                r_image = imgRead(r_im_name)\n",
    "                #Flip the center image to generate a flipped image\n",
    "                fl_image = Imflip(c_image)\n",
    "                \n",
    "                #Read the corresp angle\n",
    "                center_angle = float(batch_sample[3])\n",
    "                \n",
    "                #Append the center, left, right and flipped images and their st angles\n",
    "                images.append(c_image)\n",
    "                angles.append(center_angle)\n",
    "                \n",
    "                images.append(l_image)\n",
    "                angles.append(center_angle+st_delta)\n",
    "                \n",
    "                images.append(r_image)\n",
    "                angles.append(center_angle-st_delta)\n",
    "                \n",
    "                images.append(fl_image)\n",
    "                angles.append(-center_angle)\n",
    "\n",
    "            X_train = np.array(images)\n",
    "            y_train = np.array(angles)\n",
    "            yield sklearn.utils.shuffle(X_train, y_train)\n",
    "\n",
    "def v_generator(samples, batch_size=32):\n",
    "    num_samples = len(samples)\n",
    "    src_path = 'data_src2/data/IMG/'\n",
    "    while 1: # Loop forever so the generator never terminates\n",
    "        sklearn.utils.shuffle(samples)\n",
    "        for offset in range(0, num_samples, batch_size):\n",
    "            batch_samples = samples[offset:offset+batch_size]\n",
    "\n",
    "            images = []\n",
    "            angles = []\n",
    "            for batch_sample in batch_samples:\n",
    "                c_im_name = src_path + batch_sample[0].split('/')[-1]\n",
    "\n",
    "                #Read the images\n",
    "                c_image = imgRead(c_im_name)\n",
    "               \n",
    "                #Read the corresp angle\n",
    "                center_angle = float(batch_sample[3])\n",
    "                \n",
    "                #Append the center validation sample and its steering angle.\n",
    "                images.append(c_image)\n",
    "                angles.append(center_angle)\n",
    "\n",
    "\n",
    "            X_valid = np.array(images)\n",
    "            y_valid = np.array(angles)\n",
    "            yield sklearn.utils.shuffle(X_valid, y_valid)"
   ]
  },
  {
   "cell_type": "code",
   "execution_count": 5,
   "metadata": {
    "collapsed": true
   },
   "outputs": [],
   "source": [
    "#Define the Model here\n",
    "def Behav_Clone_Model():\n",
    "    model = Sequential()\n",
    "    #Preprocess the incoming image data with a cropping layer\n",
    "    model.add(Cropping2D(cropping=((50,20), (0,0)), input_shape=(160,320,3)))\n",
    "    model.add(Lambda(lambda x: (x / 127.5) - 1.))\n",
    "    \n",
    "    #1st convolution layer\n",
    "    model.add(Convolution2D(24,5,5,subsample=(2,2)))\n",
    "    model.add(Activation('relu'))\n",
    "    \n",
    "    #2nd Convolution layer\n",
    "    model.add(Convolution2D(36,5,5,subsample=(2,2)))\n",
    "    model.add(Activation('relu'))\n",
    "    \n",
    "    #3rd Convolution layer\n",
    "    model.add(Convolution2D(48,5,5,subsample=(2,2)))\n",
    "    model.add(Activation('relu'))\n",
    "    \n",
    "    #4th Convolution layer\n",
    "    model.add(Convolution2D(64,3,3,subsample=(1,1)))\n",
    "    model.add(Activation('relu'))\n",
    "    \n",
    "    #5th Convolution layer\n",
    "    model.add(Convolution2D(64,3,3,subsample=(1,1)))\n",
    "    model.add(Activation('relu'))\n",
    "    \n",
    "    model.add(Flatten())\n",
    "    model.add(Dense(100, activation='relu'))\n",
    "    model.add(Dense(50, activation='relu'))\n",
    "    model.add(Dense(10, activation='relu'))\n",
    "    model.add(Dense(1))\n",
    "    return model"
   ]
  },
  {
   "cell_type": "code",
   "execution_count": null,
   "metadata": {},
   "outputs": [
    {
     "name": "stdout",
     "output_type": "stream",
     "text": [
      "Number of Training samples is: 6428\n",
      "Number of Validation samples is: 1608\n",
      "Epoch 1/5\n",
      "25712/25712 [==============================] - 58s - loss: 0.0253 - val_loss: 0.0254\n",
      "Epoch 2/5\n",
      "25712/25712 [==============================] - 57s - loss: 0.0187 - val_loss: 0.0241\n",
      "Epoch 3/5\n",
      "25712/25712 [==============================] - 57s - loss: 0.0166 - val_loss: 0.0206\n",
      "Epoch 4/5\n",
      "25712/25712 [==============================] - 57s - loss: 0.0151 - val_loss: 0.0193\n",
      "Epoch 5/5\n",
      "15616/25712 [=================>............] - ETA: 21s - loss: 0.0141"
     ]
    }
   ],
   "source": [
    "samples = []\n",
    "#Append Samples from already provided data\n",
    "is_first_row = False\n",
    "with open('data_src2/data/driving_log.csv') as csvfile:\n",
    "    reader = csv.reader(csvfile)\n",
    "    for line in reader:\n",
    "        #skip the first line as it contains column headers\n",
    "        if is_first_row == False:\n",
    "            is_first_row = True\n",
    "            continue\n",
    "        samples.append(line)\n",
    "\n",
    "train_samples, validation_samples = train_test_split(samples, test_size=0.2)\n",
    "\n",
    "#Print the number of Raw Train and Validation samples\n",
    "print(\"Number of Training samples is:\",len(train_samples))\n",
    "print(\"Number of Validation samples is:\",len(validation_samples))\n",
    "\n",
    "# compile and train the model using the generator function\n",
    "train_generator = t_generator(train_samples, batch_size=32)\n",
    "validation_generator = v_generator(validation_samples, batch_size=32)\n",
    "\n",
    "#Define the Model\n",
    "model = Behav_Clone_Model()\n",
    "\n",
    "model.compile(loss='mse', optimizer='adam')\n",
    "model.fit_generator(train_generator, samples_per_epoch= (len(train_samples)*4), validation_data=validation_generator,nb_val_samples=len(validation_samples), nb_epoch=5)\n",
    "\n",
    "model.save('model.h5')"
   ]
  },
  {
   "cell_type": "code",
   "execution_count": null,
   "metadata": {
    "collapsed": true
   },
   "outputs": [],
   "source": []
  },
  {
   "cell_type": "code",
   "execution_count": null,
   "metadata": {
    "collapsed": true
   },
   "outputs": [],
   "source": []
  }
 ],
 "metadata": {
  "kernelspec": {
   "display_name": "Python 3",
   "language": "python",
   "name": "python3"
  },
  "language_info": {
   "codemirror_mode": {
    "name": "ipython",
    "version": 3
   },
   "file_extension": ".py",
   "mimetype": "text/x-python",
   "name": "python",
   "nbconvert_exporter": "python",
   "pygments_lexer": "ipython3",
   "version": "3.5.2"
  },
  "widgets": {
   "state": {},
   "version": "1.1.2"
  }
 },
 "nbformat": 4,
 "nbformat_minor": 2
}
